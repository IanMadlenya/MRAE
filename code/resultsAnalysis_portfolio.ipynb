{
 "cells": [
  {
   "cell_type": "markdown",
   "metadata": {},
   "source": [
    "# Results analysis: portfolio strategies\n",
    "\n",
    "Some of the sections below may be coded in a bad fashion, because it's been done in real-time. It does not really matter, since the purpose of this script is to display results. It's not a production script.\n",
    "\n",
    "It may not seem logical to display results from the most precise level (single/best strategy), to the least precise one (all strategies included). But we need to describe what a strategy is (see class Strategy) before any analysis. And by the way, information about best strategies are given in the Must-have section."
   ]
  },
  {
   "cell_type": "code",
   "execution_count": null,
   "metadata": {
    "collapsed": false
   },
   "outputs": [],
   "source": [
    "from bokeh.charts import TimeSeries, Bar\n",
    "from bokeh.charts.attributes import cat, color\n",
    "from bokeh.io import output_notebook, show, output_file, reset_output, gridplot, save\n",
    "from bokeh.models import Span, HoverTool, Range1d, LinearAxis\n",
    "from bokeh.models.sources import ColumnDataSource\n",
    "from bokeh.charts.operations import blend\n",
    "from bokeh.palettes import RdYlGn10, Spectral11, YlGn9\n",
    "from bokeh.plotting import figure\n",
    "from datetime import datetime\n",
    "from pandas.tseries.offsets import *\n",
    "from scipy import stats\n",
    "\n",
    "import ast\n",
    "import numpy as np\n",
    "import os\n",
    "import pandas as pd"
   ]
  },
  {
   "cell_type": "code",
   "execution_count": null,
   "metadata": {
    "collapsed": true
   },
   "outputs": [],
   "source": [
    "import resultsAnalysis_utils as uti"
   ]
  },
  {
   "cell_type": "code",
   "execution_count": null,
   "metadata": {
    "collapsed": false,
    "scrolled": false
   },
   "outputs": [],
   "source": [
    "from resultsAnalysis_dataLoading import *"
   ]
  },
  {
   "cell_type": "markdown",
   "metadata": {},
   "source": [
    "## Must-have"
   ]
  },
  {
   "cell_type": "code",
   "execution_count": null,
   "metadata": {
    "collapsed": true
   },
   "outputs": [],
   "source": [
    "strategiesMeanStdFile = '../results/dae/portfolios/performances_portfolios_final.csv'"
   ]
  },
  {
   "cell_type": "code",
   "execution_count": null,
   "metadata": {
    "collapsed": false
   },
   "outputs": [],
   "source": [
    "strategiesMeanStd = pd.read_csv(filepath_or_buffer=strategiesMeanStdFile,\n",
    "                                sep=';',\n",
    "                                header=0)\n",
    "\n",
    "for i, param in enumerate(parametersSetML):\n",
    "    concatParams = strategiesMeanStd['concatParams']\n",
    "    strategiesMeanStd[param] = concatParams.str.split('__').str[0].str.split('_').str[i]\n",
    "for i, param in enumerate(parametersSetStrat):\n",
    "    concatParams = strategiesMeanStd['concatParams']\n",
    "    strategiesMeanStd[param] = concatParams.str.split('__').str[1].str.split('_').str[i]\n",
    "    \n",
    "strategiesMeanStd = strategiesMeanStd.replace('None', 0)\n",
    "for col in numericML + numericStrat:\n",
    "    if col != 'loss' and col != 'smoothness': strategiesMeanStd[[col]] = strategiesMeanStd[[col]].apply(pd.to_numeric)\n",
    "\n",
    "strategiesMeanStd['sharpeRatio'] = strategiesMeanStd['mean'] / strategiesMeanStd['std']\n",
    "strategiesMeanStd = strategiesMeanStd.set_index('concatParams')"
   ]
  },
  {
   "cell_type": "code",
   "execution_count": null,
   "metadata": {
    "collapsed": false
   },
   "outputs": [],
   "source": [
    "strategiesMeanStd.sort_values(by='sharpeRatio').tail(20)"
   ]
  },
  {
   "cell_type": "markdown",
   "metadata": {},
   "source": [
    "## Strategy definition"
   ]
  },
  {
   "cell_type": "code",
   "execution_count": null,
   "metadata": {
    "collapsed": true
   },
   "outputs": [],
   "source": [
    "class Strategy:\n",
    "    def __init__(self,\n",
    "                 name,\n",
    "                 trackerFileDir='../results/dae/portfolios/trackers/',\n",
    "                 bsLoad=False):\n",
    "        # Strategy name\n",
    "        self.name = name\n",
    "        self.specificName = None\n",
    "        \n",
    "        # Tracker loading\n",
    "        self.tracker = pd.read_csv(trackerFileDir + self.name + '.csv',\n",
    "                                   sep=';',\n",
    "                                   header=[0,1],\n",
    "                                   parse_dates=True,\n",
    "                                   index_col=0)\n",
    "        \n",
    "        # Loadings:\n",
    "        ## Buyers/Sellers loading (information available in tracker as well)\n",
    "        self.bs = None\n",
    "        if bsLoad: self.loadStrategyBS()\n",
    "        ## Absolute, cumulative, and returns loading (information available in tracker as well)\n",
    "        ### Aggregated level\n",
    "        self.gains = None\n",
    "        self.returnMean = None\n",
    "        self.returnStd = None\n",
    "        self.returnSharpe = None\n",
    "        self.loadStrategyGains()\n",
    "        ### Action level\n",
    "        self.computeReturns()\n",
    "        \n",
    "        \n",
    "        self.dailyLoss = None\n",
    "        self.dailyWins = None \n",
    "        \n",
    "        self.dailyPerformanceLong = None\n",
    "        self.dailyPerformanceLongReturn = None\n",
    "        self.dailyPerformanceShort = None\n",
    "        self.dailyPerformanceShortReturn = None\n",
    "        self.computeDailyLongShortPerformance()\n",
    "        \n",
    "        self.drawdown = None\n",
    "        self.drawdownDetails = None\n",
    "\n",
    "        self.turnover = None\n",
    "        \n",
    "    def computeDailyLongShortPerformance(self):\n",
    "        longActions = self.tracker[self.tracker.xs('weight', level='Values', axis=1) > 0]\n",
    "        self.dailyPerformanceLong = longActions.sum(axis=1, level=1)['gain']\n",
    "        self.dailyPerformanceLongReturn = self.dailyPerformanceLong / longActions.sum(axis=1, level=1)['valueIn']\n",
    "        \n",
    "        \n",
    "        shortActions = self.tracker[self.tracker.xs('weight', level='Values', axis=1) < 0]\n",
    "        self.dailyPerformanceShort = shortActions.sum(axis=1, level=1)['gain']\n",
    "        self.dailyPerformanceShortReturn = self.dailyPerformanceShort / shortActions.sum(axis=1, level=1)['valueIn']\n",
    "        return True\n",
    "    \n",
    "    def computeGainLossContribution(self):\n",
    "        '''\n",
    "        How much does an action involved in trading contribute to the loss/gain?\n",
    "        E.g: an action loses 10 euros out of a loss of 100 euros => stands for 10% of the loss.\n",
    "        '''\n",
    "        # Negative gains\n",
    "        losingActions = self.tracker[self.tracker.xs('gain', level='Values', axis=1) < 0]\n",
    "        # Sum over negative gains to compute global loss\n",
    "        dailyLoss = losingActions.sum(axis=1, level=1)['gain']\n",
    "        self.dailyLoss = dailyLoss\n",
    "        # Compute loss contribution\n",
    "        lossContribution = - losingActions.xs('gain', level='Values', axis=1).divide(dailyLoss, axis=0) * 100\n",
    "        # Assign it (nested loop to prevent overwritting while further positive gain computation)\n",
    "        for stock in lossContribution.columns.values:\n",
    "            for day in lossContribution.index.values:\n",
    "                algebricGain = self.tracker.ix[day, (stock, 'gain')]\n",
    "                if (not np.isnan(algebricGain) and\n",
    "                    algebricGain < 0):\n",
    "                    self.tracker.ix[day, (stock, 'contribution')] = lossContribution.loc[day, stock]\n",
    "        \n",
    "        # Positive gains\n",
    "        winningActions = self.tracker[self.tracker.xs('gain', level='Values', axis=1) > 0]\n",
    "        # Sum over positive gains to compute global gain\n",
    "        dailyWins = winningActions.sum(axis=1, level=1)['gain']\n",
    "        self.dailyWins = dailyWins\n",
    "        # Compute gain contribution\n",
    "        winsContribution = winningActions.xs('gain', level='Values', axis=1).divide(dailyWins, axis=0) * 100\n",
    "        # Assign it (nested loop to prevent overwritting while previous negative gain assignation has been performed)\n",
    "        for stock in winsContribution.columns.values:\n",
    "            for day in winsContribution.index.values:\n",
    "                algebricGain = self.tracker.ix[day, (stock, 'gain')]\n",
    "                if (not np.isnan(algebricGain) and\n",
    "                    algebricGain > 0):\n",
    "                    self.tracker.ix[day, (stock, 'contribution')] = winsContribution.loc[day, stock]\n",
    "                    \n",
    "        self.tracker = self.tracker.sort_index(axis=1)\n",
    "        \n",
    "        return True\n",
    "    \n",
    "    def computeReturns(self):\n",
    "        returns = self.tracker.xs('gain', level='Values', axis=1) / self.tracker.xs('valueIn', level='Values', axis=1)\n",
    "        for stock in self.tracker.columns.levels[0].values: self.tracker[stock, 'return'] = returns[stock]\n",
    "        self.tracker = self.tracker.sort_index(1)\n",
    "\n",
    "        return True\n",
    "    \n",
    "    def computeTurnover(self):\n",
    "        tmp = self.tracker.xs('gain', level='Values', axis=1)\n",
    "        turnover = []\n",
    "        previousDay = []\n",
    "        for day in tmp.index.values[:-1]:\n",
    "            dday = []\n",
    "            for stock in tmp.columns.values:\n",
    "                if not np.isnan(tmp.ix[day, stock]): dday.append(stock)\n",
    "            # Stocks in dday, not in previousDay = new stocks involved in trading\n",
    "            diff = list(set(dday).difference(set(previousDay))) \n",
    "            turnover.append(len(diff) * 1. / len(dday) * 100)\n",
    "            previousDay = dday\n",
    "        self.turnover = turnover\n",
    "        return True\n",
    "    \n",
    "    def loadStrategyBS(self):\n",
    "        '''\n",
    "        Load table of who was involved in trading each day, with its weight\n",
    "        Positive weight: long leg\n",
    "        Negative weight: short leg\n",
    "        '''\n",
    "        refDir = '../results/dae/portfolios/bs/bs_'\n",
    "        f = open(refDir + self.name + '.log')\n",
    "        rawData = f.readlines()\n",
    "        f.close()\n",
    "\n",
    "        bs = {}\n",
    "\n",
    "        date = None\n",
    "        for n, line in enumerate(rawData):\n",
    "            if n % 2 == 0: date = pd.to_datetime(line.replace('\\n','').rsplit('T')[0])\n",
    "            elif line.replace('\\n','') == '{}': bs[date] = {'DELBBB': np.nan}\n",
    "            else:\n",
    "                bs[date] = ast.literal_eval(line.replace('\\n',''))\n",
    "        bs = pd.DataFrame.from_dict(bs, orient=\"index\")\n",
    "        bs = bs.reindex_axis(sorted(bs.columns), axis=1)\n",
    "        self.bs = bs\n",
    "        return True\n",
    "    \n",
    "    def loadStrategyGains(self):\n",
    "        refDir = '../results/dae/portfolios/values/'\n",
    "        gains = pd.read_csv(filepath_or_buffer=refDir + self.name + '.csv',\n",
    "                            sep=';',\n",
    "                            header=0,\n",
    "                            parse_dates=True)\n",
    "        gains['Date'] = pd.to_datetime(gains['Date'])\n",
    "        gains = gains.set_index('Date').drop(gains.columns[[0]], axis=1)\n",
    "        gains['return'] = gains['AbsGain'] / self.tracker.xs('valueIn', level='Values', axis=1).sum(1)\n",
    "        \n",
    "        self.returnMean = gains['return'].mean(skipna=True)\n",
    "        self.returnStd = gains['return'].std(skipna=True)\n",
    "        self.returnSharpe = self.returnMean / self.returnStd\n",
    "        \n",
    "        gains['return100'] = gains['return'] + 1\n",
    "        gains['cumulReturn'] = gains['return100'] \n",
    "        gains.ix[datetime(2014,1,1), 'cumulReturn'] = 100\n",
    "        gains = gains.sort_index()\n",
    "        gains['cumulReturn'] = gains['cumulReturn'].cumprod(axis=0)\n",
    "        self.gains = gains\n",
    "        return True\n",
    "\n",
    "    def to_drawdown_series(self):\n",
    "        \"\"\"\n",
    "        Calculates the drawdown series.\n",
    "\n",
    "        This returns a series representing a drawdown.\n",
    "        When the self.pnl is at all time highs, the drawdown\n",
    "        is 0. However, when self.pnls are below high water marks,\n",
    "        the drawdown series = current / hwm - 1\n",
    "\n",
    "        The max drawdown can be obtained by simply calling .min()\n",
    "        on the result (since the drawdown series is negative)\n",
    "\n",
    "        Args:\n",
    "            * self.pnls (TimeSeries or DataFrame): Series of self.pnls.\n",
    "\n",
    "        \"\"\"\n",
    "        # make a copy so that we don't modify original data\n",
    "        drawdown = self.pnl.copy()\n",
    "\n",
    "        # set initial hwm (copy to avoid issues w/ overwriting)\n",
    "        hwm = drawdown.ix[0].copy()\n",
    "        isdf = isinstance(drawdown, pd.DataFrame)\n",
    "\n",
    "        for idx in drawdown.index:\n",
    "            tmp = drawdown.ix[idx]\n",
    "            if isdf:\n",
    "                hwm[tmp > hwm] = tmp\n",
    "            else:\n",
    "                hwm = max(tmp, hwm)\n",
    "\n",
    "            drawdown.ix[idx] = tmp / hwm - 1\n",
    "\n",
    "        # first row is 0 by definition\n",
    "        drawdown.ix[0] = 0\n",
    "        \n",
    "        self.drawdown = drawdown\n",
    "        \n",
    "        return True\n",
    "    def drawdown_details(self):\n",
    "        \"\"\"\n",
    "        Returns a data frame with start, end, days (duration) and\n",
    "        drawdown for each drawdown in a drawdown series.\n",
    "\n",
    "        .. note::\n",
    "\n",
    "            days are actual calendar days, not trading days\n",
    "\n",
    "        Args:\n",
    "            * drawdown (pandas.TimeSeries): A drawdown TimeSeries\n",
    "                (can be obtained w/ drawdown(self.pnls).\n",
    "        Returns:\n",
    "            * pandas.DataFrame -- A data frame with the following\n",
    "                columns: start, end, days, drawdown.\n",
    "\n",
    "        \"\"\"\n",
    "        is_zero = self.drawdown == 0\n",
    "        # find start dates (first day where dd is non-zero after a zero)\n",
    "        start = ~is_zero & is_zero.shift(1)\n",
    "        start = list(start[start == True].index)  # NOQA\n",
    "\n",
    "        # find end dates (first day where dd is 0 after non-zero)\n",
    "        end = is_zero & (~is_zero).shift(1)\n",
    "        end = list(end[end == True].index)  # NOQA\n",
    "\n",
    "        if len(start) is 0:\n",
    "            return None\n",
    "\n",
    "        # drawdown has no end (end period in dd)\n",
    "        if len(end) is 0:\n",
    "            end.append(self.drawdown.index[-1])\n",
    "\n",
    "        # if the first drawdown start is larger than the first drawdown end it\n",
    "        # means the drawdown series begins in a drawdown and therefore we must add\n",
    "        # the first index to the start series\n",
    "        if start[0] > end[0]:\n",
    "            start.insert(0, self.drawdown.index[0])\n",
    "\n",
    "        # if the last start is greater than the end then we must add the last index\n",
    "        # to the end series since the drawdown series must finish with a drawdown\n",
    "        if start[-1] > end[-1]:\n",
    "            end.append(self.drawdown.index[-1])\n",
    "\n",
    "        result = pd.DataFrame(columns=('start', 'end', 'days', 'drawdown'),\n",
    "                              index=range(0, len(start)))\n",
    "\n",
    "        for i in range(0, len(start)):\n",
    "            dd = self.drawdown[start[i]:end[i]].min()\n",
    "            result.ix[i] = (start[i], end[i], (end[i] - start[i]).days, dd)\n",
    "\n",
    "        self.drawdownDetails = result    \n",
    "        \n",
    "        return True"
   ]
  },
  {
   "cell_type": "markdown",
   "metadata": {},
   "source": [
    "## Benchmark"
   ]
  },
  {
   "cell_type": "markdown",
   "metadata": {},
   "source": [
    "### Loading"
   ]
  },
  {
   "cell_type": "code",
   "execution_count": null,
   "metadata": {
    "collapsed": false
   },
   "outputs": [],
   "source": [
    "benchmarkUniformFile = '10_75_False_None_adadelta_mse_200_10_tanh_linear__100000_1_True_False_True_151_None_None_None_uniform.csv'\n",
    "benchmarkUniform = Strategy(name=benchmarkUniformFile.replace('.csv', ''), bsLoad=False)"
   ]
  },
  {
   "cell_type": "code",
   "execution_count": null,
   "metadata": {
    "collapsed": true
   },
   "outputs": [],
   "source": [
    "benchmarkERCFile = '10_75_False_None_adadelta_mse_200_10_tanh_linear__100000_1_True_False_True_151_None_None_None_riskContribution.csv'\n",
    "benchmarkERC = Strategy(name=benchmarkERCFile.replace('.csv', ''), bsLoad=False)"
   ]
  },
  {
   "cell_type": "markdown",
   "metadata": {},
   "source": [
    "### Plot PNL"
   ]
  },
  {
   "cell_type": "code",
   "execution_count": null,
   "metadata": {
    "collapsed": false
   },
   "outputs": [],
   "source": [
    "reset_output()\n",
    "output_notebook()\n",
    "fig = figure(x_axis_type=\"datetime\")\n",
    "fig.yaxis.axis_label = 'Cumulative returns'\n",
    "x = benchmarkERC.gains.index\n",
    "fig.line(x, benchmarkERC.gains['cumulReturn'], color='darkgreen', legend='ERC')\n",
    "fig.line(x, benchmarkUniform.gains['cumulReturn'], color='darkred', legend='uniform')\n",
    "show(fig)\n",
    "output_file('../results/dae/portfolios/resultsAnalysis/benchmarkPNL.html')\n",
    "save(fig)"
   ]
  },
  {
   "cell_type": "markdown",
   "metadata": {},
   "source": [
    "## Strategy level"
   ]
  },
  {
   "cell_type": "markdown",
   "metadata": {},
   "source": [
    "### Loading"
   ]
  },
  {
   "cell_type": "code",
   "execution_count": null,
   "metadata": {
    "collapsed": true
   },
   "outputs": [],
   "source": [
    "strategyName = '10_75_False_None_adadelta_mse_200_10_tanh_linear__100000_1_True_True_False_None_None_0.4_2_riskContribution'"
   ]
  },
  {
   "cell_type": "code",
   "execution_count": null,
   "metadata": {
    "collapsed": false
   },
   "outputs": [],
   "source": [
    "strategy = Strategy(name=strategyName)"
   ]
  },
  {
   "cell_type": "markdown",
   "metadata": {},
   "source": [
    "### Residuals\n",
    "\n",
    "Plot"
   ]
  },
  {
   "cell_type": "code",
   "execution_count": null,
   "metadata": {
    "collapsed": false
   },
   "outputs": [],
   "source": [
    "fig = figure(background_fill_color=\"#E8DDCB\")\n",
    "hist, edges = np.histogram(strategy.gains['return'][1:], density=True, bins=40)\n",
    "fig.xaxis.axis_label = 'strategy returns'\n",
    "fig.yaxis.visible = None\n",
    "fig.xaxis.axis_label_text_font_size = \"12pt\"\n",
    "fig.quad(top=hist,\n",
    "        bottom=0,\n",
    "        left=edges[:-1],\n",
    "        right=edges[1:],\n",
    "        fill_color=\"#036564\",\n",
    "        line_color=\"#033649\")\n",
    "\n",
    "reset_output()\n",
    "output_notebook()\n",
    "show(fig)\n",
    "output_file('../results/dae/portfolios/resultsAnalysis/retsHist.html')\n",
    "save(fig)"
   ]
  },
  {
   "cell_type": "markdown",
   "metadata": {},
   "source": [
    "### Daily gain and loss repartition"
   ]
  },
  {
   "cell_type": "markdown",
   "metadata": {},
   "source": [
    "#### Formatting"
   ]
  },
  {
   "cell_type": "code",
   "execution_count": null,
   "metadata": {
    "collapsed": false
   },
   "outputs": [],
   "source": [
    "def computeStats(df, what):\n",
    "    frames = []\n",
    "\n",
    "    frames.append(df.min(axis=1))\n",
    "    frames.append(df.mean(axis=1))\n",
    "    frames.append(df.max(axis=1))\n",
    "    frames.append(df.idxmin(axis=1, skipna=True))\n",
    "    frames.append(df.idxmax(axis=1, skipna=True))\n",
    "    \n",
    "\n",
    "    res = pd.DataFrame(frames)\n",
    "    \n",
    "    res.index = ['min' + what, 'mean' + what, 'max' + what, 'idxmin' + what, 'idxmax' + what]\n",
    "    \n",
    "    return res.T"
   ]
  },
  {
   "cell_type": "code",
   "execution_count": null,
   "metadata": {
    "collapsed": false
   },
   "outputs": [],
   "source": [
    "losingActions = strategy.tracker[strategy.tracker.xs('gain', level='Values', axis=1) < 0].xs('return', level='Values', axis=1)\n",
    "winningActions = strategy.tracker[strategy.tracker.xs('gain', level='Values', axis=1) > 0].xs('return', level='Values', axis=1)"
   ]
  },
  {
   "cell_type": "code",
   "execution_count": null,
   "metadata": {
    "collapsed": false
   },
   "outputs": [],
   "source": [
    "lossStats = computeStats(losingActions, 'loss')\n",
    "winStats = computeStats(winningActions, 'gain')"
   ]
  },
  {
   "cell_type": "code",
   "execution_count": null,
   "metadata": {
    "collapsed": false
   },
   "outputs": [],
   "source": [
    "statss = pd.concat([lossStats, winStats], axis=1)\n",
    "statss = statss.reset_index()"
   ]
  },
  {
   "cell_type": "markdown",
   "metadata": {},
   "source": [
    "#### Plot"
   ]
  },
  {
   "cell_type": "code",
   "execution_count": null,
   "metadata": {
    "collapsed": false,
    "scrolled": true
   },
   "outputs": [],
   "source": [
    "reset_output()\n",
    "output_notebook()\n",
    "\n",
    "fig = figure(x_axis_type=\"datetime\", plot_width=1300)\n",
    "fig.yaxis.axis_label = 'returns'\n",
    "fig.yaxis.axis_label_text_font_size = \"12pt\"\n",
    "\n",
    "source = ColumnDataSource(statss)\n",
    "\n",
    "maxGain = fig.line('Date', 'maxgain', source=source, legend='max positive return', color='darkgreen')\n",
    "fig.add_tools(HoverTool(renderers=[maxGain], tooltips=[('stock', '@idxmaxgain')]))\n",
    "fig.line('Date', 'meangain', source=source, legend='average positive return', color='green')\n",
    "# fig.line('Date', 'mingain', source=source, legend='minGain', color='lightgreen')\n",
    "\n",
    "# fig.line('Date', 'maxloss', source=source, legend='minLoss', color='lightcoral')\n",
    "fig.line('Date', 'meanloss', source=source, legend='average negative return', color='red')\n",
    "minLoss = fig.line('Date', 'minloss', source=source, legend='max negative return', color='darkred')\n",
    "fig.add_tools(HoverTool(renderers=[minLoss], tooltips=[('stock', '@idxminloss')]))\n",
    "\n",
    "fig.legend.orientation = \"top_right\"\n",
    "\n",
    "show(fig)\n",
    "output_file('../results/dae/portfolios/resultsAnalysis/' + strategyName + '_dailyPnLEvolution.html')\n",
    "save(fig)"
   ]
  },
  {
   "cell_type": "markdown",
   "metadata": {},
   "source": [
    "### Daily long short performance"
   ]
  },
  {
   "cell_type": "markdown",
   "metadata": {},
   "source": [
    "#### Leg correction\n",
    "\n",
    "Correct long/short legs performances with the market/benchmark"
   ]
  },
  {
   "cell_type": "code",
   "execution_count": null,
   "metadata": {
    "collapsed": false
   },
   "outputs": [],
   "source": [
    "dailyPerformanceLongReturnCorrected = strategy.dailyPerformanceLongReturn - benchmarkERC.gains[1:]['return']"
   ]
  },
  {
   "cell_type": "code",
   "execution_count": null,
   "metadata": {
    "collapsed": true
   },
   "outputs": [],
   "source": [
    "dailyPerformanceShortReturnCorrected = strategy.dailyPerformanceShortReturn + benchmarkERC.gains[1:]['return']"
   ]
  },
  {
   "cell_type": "markdown",
   "metadata": {},
   "source": [
    "#### Plot"
   ]
  },
  {
   "cell_type": "code",
   "execution_count": null,
   "metadata": {
    "collapsed": false
   },
   "outputs": [],
   "source": [
    "reset_output()\n",
    "output_notebook()\n",
    "\n",
    "fig = figure(x_axis_type=\"datetime\",\n",
    "             width = 1200)\n",
    "fig.yaxis.axis_label = 'Returns'\n",
    "\n",
    "fig.line(strategy.tracker.index.values, dailyPerformanceLongReturnCorrected, legend='long', color='green')\n",
    "fig.line(strategy.tracker.index.values, dailyPerformanceShortReturnCorrected, legend='short', color='red')\n",
    "\n",
    "fig.legend.orientation = \"top_left\"\n",
    "\n",
    "show(fig)\n",
    "output_file('../results/dae/portfolios/resultsAnalysis/' + strategyName + '_dailyLongShortPerf.html')\n",
    "save(fig)"
   ]
  },
  {
   "cell_type": "markdown",
   "metadata": {},
   "source": [
    "### Turnover"
   ]
  },
  {
   "cell_type": "markdown",
   "metadata": {},
   "source": [
    "#### Computation"
   ]
  },
  {
   "cell_type": "code",
   "execution_count": null,
   "metadata": {
    "collapsed": false
   },
   "outputs": [],
   "source": [
    "strategy.computeTurnover()"
   ]
  },
  {
   "cell_type": "code",
   "execution_count": null,
   "metadata": {
    "collapsed": false
   },
   "outputs": [],
   "source": [
    "np.mean(strategy.turnover)"
   ]
  },
  {
   "cell_type": "markdown",
   "metadata": {},
   "source": [
    "#### Plot"
   ]
  },
  {
   "cell_type": "code",
   "execution_count": null,
   "metadata": {
    "collapsed": false
   },
   "outputs": [],
   "source": [
    "reset_output()\n",
    "output_notebook()\n",
    "\n",
    "p = figure(x_axis_type=\"datetime\")\n",
    "p.yaxis.axis_label = 'turnover (%)'\n",
    "p.line(x=strategy.tracker.index.values[1:], y=strategy.turnover[1:], color='green')\n",
    "p.legend.orientation = \"top_left\"\n",
    "show(p)\n",
    "\n",
    "output_file('../results/dae/portfolios/resultsAnalysis/' + strategyName + '_turnover.html')\n",
    "save(p)"
   ]
  },
  {
   "cell_type": "markdown",
   "metadata": {
    "collapsed": true
   },
   "source": [
    "### Actions contribution"
   ]
  },
  {
   "cell_type": "markdown",
   "metadata": {},
   "source": [
    "#### Computation"
   ]
  },
  {
   "cell_type": "code",
   "execution_count": null,
   "metadata": {
    "collapsed": false
   },
   "outputs": [],
   "source": [
    "strategy.computeGainLossContribution()"
   ]
  },
  {
   "cell_type": "code",
   "execution_count": null,
   "metadata": {
    "collapsed": false
   },
   "outputs": [],
   "source": [
    "contribs = strategy.tracker.xs('contribution', level='Values', axis=1)"
   ]
  },
  {
   "cell_type": "code",
   "execution_count": null,
   "metadata": {
    "collapsed": false
   },
   "outputs": [],
   "source": [
    "frames = []\n",
    "frames.append(contribs.count() / contribs.shape[0] * 100)\n",
    "frames.append(contribs[contribs > 0].count() / contribs.shape[0] * 100)\n",
    "frames.append(contribs[contribs < 0].count() / contribs.shape[0] * 100)\n",
    "df = pd.DataFrame(frames).T\n",
    "df.columns = ['Total', 'Gain', 'Loss']\n",
    "df = df.reset_index()\n",
    "df = df.sort(\"Loss\", ascending=False)"
   ]
  },
  {
   "cell_type": "markdown",
   "metadata": {},
   "source": [
    "#### Plot"
   ]
  },
  {
   "cell_type": "code",
   "execution_count": null,
   "metadata": {
    "collapsed": false
   },
   "outputs": [],
   "source": [
    "reset_output()\n",
    "output_notebook()\n",
    "bar = Bar(df,\n",
    "          values=blend('Loss', 'Gain', name='pnls', labels_name='pnl'),\n",
    "          label=cat(columns='Action', sort=False),\n",
    "          stack=cat(columns='pnl', sort=False),\n",
    "          color=color(columns='pnl', palette=list(reversed(['green', 'red'])), sort=False),\n",
    "          legend='top_right',\n",
    "          title='Participation repartition (%)', tooltips=[('Action', '@Action')], width=2300)\n",
    "show(bar)\n",
    "output_file('../results/dae/portfolios/resultsAnalysis/' + strategyName + '_actionsContribution.html')\n",
    "save(bar)"
   ]
  },
  {
   "cell_type": "markdown",
   "metadata": {},
   "source": [
    "### Strategy VS Benchmark\n",
    "\n",
    "How does the strategy behave compared to benchmark?\n",
    "The goal is just to plot daily returns from benchmark in function of daily returns from"
   ]
  },
  {
   "cell_type": "code",
   "execution_count": null,
   "metadata": {
    "collapsed": true
   },
   "outputs": [],
   "source": [
    "def plotStratVSBenchmark(strat, stratName):\n",
    "    reset_output()\n",
    "    \n",
    "    p = figure()\n",
    "    p.xaxis.axis_label='strategy returns'\n",
    "    p.yaxis.axis_label='benchmark returns'\n",
    "    p.circle(strat.gains['return'], benchmarkERC.gains['return'])\n",
    "    p.xaxis.axis_label_text_font_size = \"12pt\"\n",
    "    p.yaxis.axis_label_text_font_size = \"12pt\"\n",
    "    \n",
    "    output_notebook()\n",
    "    show(p)\n",
    "    \n",
    "    output_file('../results/dae/portfolios/resultsAnalysis/' + stratName + '.html')\n",
    "    save(p)\n",
    "    \n",
    "    return True"
   ]
  },
  {
   "cell_type": "markdown",
   "metadata": {},
   "source": [
    "First with best strategy"
   ]
  },
  {
   "cell_type": "code",
   "execution_count": null,
   "metadata": {
    "collapsed": true
   },
   "outputs": [],
   "source": [
    "plotStratVSBenchmark(strategy, 'best')"
   ]
  },
  {
   "cell_type": "markdown",
   "metadata": {},
   "source": [
    "Second with 1 long 1 short which is the purest strategy and the less noisy one"
   ]
  },
  {
   "cell_type": "code",
   "execution_count": null,
   "metadata": {
    "collapsed": true
   },
   "outputs": [],
   "source": [
    "long1Short1File = '10_75_False_None_adadelta_mse_200_10_tanh_linear__100000_1_True_True_True_1_1_None_None_uniform'\n",
    "long1Short1 = Strategy(name=long1Short1File)"
   ]
  },
  {
   "cell_type": "code",
   "execution_count": null,
   "metadata": {
    "collapsed": false
   },
   "outputs": [],
   "source": [
    "plotStratVSBenchmark(long1Short1, 'long1Short1')"
   ]
  },
  {
   "cell_type": "markdown",
   "metadata": {},
   "source": [
    "## ML class of model level"
   ]
  },
  {
   "cell_type": "code",
   "execution_count": null,
   "metadata": {
    "collapsed": true
   },
   "outputs": [],
   "source": [
    "mlModel = '10_75_False_None_adadelta_mse_200_10_tanh_linear'"
   ]
  },
  {
   "cell_type": "markdown",
   "metadata": {},
   "source": [
    "### Loading"
   ]
  },
  {
   "cell_type": "code",
   "execution_count": null,
   "metadata": {
    "collapsed": true
   },
   "outputs": [],
   "source": [
    "mlPredictionsDir = '../results/dae/neuralNetwork/predictions/'"
   ]
  },
  {
   "cell_type": "code",
   "execution_count": null,
   "metadata": {
    "collapsed": false
   },
   "outputs": [],
   "source": [
    "predictions_test = pd.read_csv(filepath_or_buffer=mlPredictionsDir + 'test_' + mlModel + '.csv',\n",
    "                               sep=';',\n",
    "                               header=0,\n",
    "                               index_col='Date',\n",
    "                               parse_dates=True)"
   ]
  },
  {
   "cell_type": "code",
   "execution_count": null,
   "metadata": {
    "collapsed": false
   },
   "outputs": [],
   "source": [
    "predictions_train = pd.read_csv(filepath_or_buffer=mlPredictionsDir + 'train_' + mlModel + '.csv',\n",
    "                                sep=';',\n",
    "                                header=0,\n",
    "                                index_col='Date',\n",
    "                                parse_dates=True)"
   ]
  },
  {
   "cell_type": "code",
   "execution_count": null,
   "metadata": {
    "collapsed": true
   },
   "outputs": [],
   "source": [
    "def loadStrategiesValues(mlModel, condition='True_True_False_', vals='CumulGain'):\n",
    "    stratValues = {}\n",
    "    refDir = '../results/dae/portfolios/values/'\n",
    "    first = True\n",
    "    for file in os.listdir(refDir):\n",
    "        if file.startswith(mlModel) and condition in file:\n",
    "            stratConf = file.rsplit('__')[1].replace('_2_riskContribution.csv', '').replace('100000_1_' + condition, '').replace('None_None_', '')\n",
    "            data = pd.read_csv(filepath_or_buffer=refDir + file,\n",
    "                               sep=';',\n",
    "                               header=0,\n",
    "                               parse_dates=True)\n",
    "            if first:\n",
    "                stratValues['Date'] = pd.to_datetime(data['Date'])\n",
    "                first = False\n",
    "            stratValues[stratConf] = data[vals].tolist()\n",
    "    stratValues = pd.DataFrame.from_dict(stratValues, orient='columns')\n",
    "    stratValues = stratValues.set_index('Date')\n",
    "    return stratValues"
   ]
  },
  {
   "cell_type": "markdown",
   "metadata": {},
   "source": [
    "### Absolute gain and returns\n",
    "\n",
    "This is a little bit overkill. Previous methods may have been used instead."
   ]
  },
  {
   "cell_type": "code",
   "execution_count": null,
   "metadata": {
    "collapsed": false
   },
   "outputs": [],
   "source": [
    "stratValuesCumul =  loadStrategiesValues(mlModel=mlModel)\n",
    "stratValuesCumul.head()"
   ]
  },
  {
   "cell_type": "code",
   "execution_count": null,
   "metadata": {
    "collapsed": false
   },
   "outputs": [],
   "source": [
    "stratValuesAbs =  loadStrategiesValues(mlModel=mlModel, vals='AbsGain')\n",
    "stratValuesAbs.head()"
   ]
  },
  {
   "cell_type": "code",
   "execution_count": null,
   "metadata": {
    "collapsed": false
   },
   "outputs": [],
   "source": [
    "stratValuesAbs1 = stratValuesAbs / 200000 + 1\n",
    "stratValuesAbs1.loc['2014-1-2'] = stratValuesAbs1.loc['2014-1-2'] * 100\n",
    "stratValuesAbs2 = stratValuesAbs1.cumprod(axis=0)\n",
    "stratValuesAbs2.head()"
   ]
  },
  {
   "cell_type": "code",
   "execution_count": null,
   "metadata": {
    "collapsed": false
   },
   "outputs": [],
   "source": [
    "uti.plotCombinedPortfoliosPerf(stratValuesAbs2, mlModel, kind='Cumulative returns', benchmark=benchmarkERC)"
   ]
  },
  {
   "cell_type": "markdown",
   "metadata": {},
   "source": [
    "## Equally weighted strategies study"
   ]
  },
  {
   "cell_type": "code",
   "execution_count": null,
   "metadata": {
    "collapsed": true
   },
   "outputs": [],
   "source": [
    "trackerDir = '../results/dae/portfolios/trackers/'"
   ]
  },
  {
   "cell_type": "markdown",
   "metadata": {},
   "source": [
    "### Matrix of mean / std / sharpe ratio of long, short, long short portfolios\n",
    "For a given machine learning model ans long short portfolios"
   ]
  },
  {
   "cell_type": "markdown",
   "metadata": {},
   "source": [
    "#### Computation"
   ]
  },
  {
   "cell_type": "code",
   "execution_count": null,
   "metadata": {
    "collapsed": false,
    "scrolled": true
   },
   "outputs": [],
   "source": [
    "for file in os.listdir(trackerDir):\n",
    "    if (mlModel in file and 'uniform' in file and '151' not in file):\n",
    "        strategy = Strategy(name=file.replace('.csv', ''), bsLoad=False)\n",
    "        strategiesMeanStd.ix[strategy.name, 'returnMean'] = strategy.returnMean\n",
    "        strategiesMeanStd.ix[strategy.name, 'returnStd'] = strategy.returnStd\n",
    "        strategiesMeanStd.ix[strategy.name, 'returnSharpe'] = strategy.returnSharpe"
   ]
  },
  {
   "cell_type": "code",
   "execution_count": null,
   "metadata": {
    "collapsed": false
   },
   "outputs": [],
   "source": [
    "strategiesMeanStd = strategiesMeanStd.reset_index() \n",
    "ewstrategiesMeanStd = strategiesMeanStd[(strategiesMeanStd['concatParams'].str.contains(mlModel)) &\n",
    "                                        (strategiesMeanStd['concatParams'].str.contains('uniform'))]"
   ]
  },
  {
   "cell_type": "code",
   "execution_count": null,
   "metadata": {
    "collapsed": false
   },
   "outputs": [],
   "source": [
    "ewstrategiesMeanStd = strategiesMeanStd.dropna()"
   ]
  },
  {
   "cell_type": "code",
   "execution_count": null,
   "metadata": {
    "collapsed": false
   },
   "outputs": [],
   "source": [
    "def indexCorrespondance(legSize):\n",
    "    indexes = sorted(ewstrategiesMeanStd[legSize].unique())\n",
    "    indexes = [(indexes, i) for i, indexes in enumerate(indexes)]\n",
    "    return indexes\n",
    "\n",
    "def matrixGeneration(metric='mean'):\n",
    "    matrix = np.zeros(shape=(len(ewstrategiesMeanStd['legSizeLong'].unique()),\n",
    "                             len(ewstrategiesMeanStd['legSizeShort'].unique())))\n",
    "    \n",
    "    indexesLong = indexCorrespondance(legSize='legSizeLong')\n",
    "    indexesShort = indexCorrespondance(legSize='legSizeShort')\n",
    "\n",
    "    for legSizeLong, indexLong in indexesLong:\n",
    "        for legSizeShort, indexShort in indexesShort:\n",
    "            mask = ((ewstrategiesMeanStd['legSizeLong'] == legSizeLong) &\n",
    "                    (ewstrategiesMeanStd['legSizeShort'] == legSizeShort))\n",
    "            tmp = ewstrategiesMeanStd[mask][metric].values\n",
    "            if len(tmp) == 1: matrix[indexLong, indexShort] = tmp[0]\n",
    "    \n",
    "    matrix = pd.DataFrame(matrix,\n",
    "                          index=sorted(ewstrategiesMeanStd['legSizeLong'].unique()),\n",
    "                          columns=sorted(ewstrategiesMeanStd['legSizeShort'].unique()))\n",
    "    matrix.index = matrix.index.map(lambda x: 'l_' + str(x))\n",
    "    matrix.columns = matrix.columns.map(lambda x: 's_' + str(x))\n",
    "    return matrix\n",
    "    #         mask = (ewstrategiesMeanStd['legSizeLong'] == legSizeLong \n",
    "    #         matrix[legSizeLong, legSizeShort] = ewstrategiesMeanStd[mask]['mean']"
   ]
  },
  {
   "cell_type": "code",
   "execution_count": null,
   "metadata": {
    "collapsed": false
   },
   "outputs": [],
   "source": [
    "matrixMean = matrixGeneration('returnMean')\n",
    "matrixStd = matrixGeneration('returnStd')\n",
    "matrixSharpe = matrixGeneration('returnSharpe')"
   ]
  },
  {
   "cell_type": "markdown",
   "metadata": {},
   "source": [
    "#### Results saving"
   ]
  },
  {
   "cell_type": "code",
   "execution_count": null,
   "metadata": {
    "collapsed": true
   },
   "outputs": [],
   "source": [
    "matrixMean.to_csv('../results/dae/portfolios/resultsAnalysis/return_mean_longshort.csv',\n",
    "                  sep=';')\n",
    "matrixStd.to_csv('../results/dae/portfolios/resultsAnalysis/return_std_longshort.csv',\n",
    "                  sep=';')\n",
    "matrixSharpe.to_csv('../results/dae/portfolios/resultsAnalysis/return_sharpe_longshort.csv',\n",
    "                  sep=';')\n"
   ]
  },
  {
   "cell_type": "markdown",
   "metadata": {},
   "source": [
    "### Correlations between strategies\n",
    "\n",
    "For long and short portfolios corrected from market"
   ]
  },
  {
   "cell_type": "markdown",
   "metadata": {},
   "source": [
    "#### Computation"
   ]
  },
  {
   "cell_type": "code",
   "execution_count": null,
   "metadata": {
    "collapsed": false
   },
   "outputs": [],
   "source": [
    "what = '_1_True_False'\n",
    "longStrategies = [Strategy(name=file.replace('.csv', ''),\n",
    "                           bsLoad=False)\n",
    "                  for file in os.listdir(trackerDir) if (mlModel in file and what in file and '151' not in file)]\n",
    "# Correct returns with market/benchmark returns\n",
    "for longStrategy in longStrategies:\n",
    "    longStrategy.gains['returnCorrected'] = longStrategy.gains['return'] - benchmarkUniform.gains['return']"
   ]
  },
  {
   "cell_type": "code",
   "execution_count": null,
   "metadata": {
    "collapsed": true
   },
   "outputs": [],
   "source": [
    "what = '_1_False_True'\n",
    "shortStrategies = [Strategy(name=file.replace('.csv', ''),\n",
    "                            bsLoad=False)\n",
    "                  for file in os.listdir(trackerDir) if (mlModel in file and what in file and '151' not in file)]\n",
    "# Correct returns with market/benchmark returns\n",
    "for shortStrategy in shortStrategies:\n",
    "    shortStrategy.gains['returnCorrected'] = shortStrategy.gains['return'] + benchmarkUniform.gains['return']"
   ]
  },
  {
   "cell_type": "markdown",
   "metadata": {},
   "source": [
    "Change specific name for correlations purpose (flexible parameter)"
   ]
  },
  {
   "cell_type": "code",
   "execution_count": null,
   "metadata": {
    "collapsed": false
   },
   "outputs": [],
   "source": [
    "for strat in longStrategies + shortStrategies:\n",
    "    strat.specificName = strat.name.split('100000_1_')[1].split('_None_None_uniform')[0]"
   ]
  },
  {
   "cell_type": "code",
   "execution_count": null,
   "metadata": {
    "collapsed": false
   },
   "outputs": [],
   "source": [
    "def computeStrategiesCorrelations(set1, columnsName, set2, indexName):\n",
    "    corrsMatrix ={}\n",
    "    for strategy1 in set1:\n",
    "        corrs = []\n",
    "        for strategy2 in set2:\n",
    "            corr = strategy1.gains['returnCorrected'].corr(strategy2.gains['returnCorrected'])\n",
    "            corrs.append(corr)\n",
    "        corrsMatrix[strategy1.specificName] = corrs\n",
    "\n",
    "    set2StrategiesNames = []\n",
    "    for strategy2 in set2: set2StrategiesNames.append(strategy2.specificName)\n",
    "\n",
    "    corrsMatrix[indexName] = set2StrategiesNames\n",
    "    corrsMatrix = pd.DataFrame.from_dict(corrsMatrix).set_index(indexName)\n",
    "    corrsMatrix.index = corrsMatrix.index.map(lambda x: int(x.split('_')[-1]))\n",
    "    corrsMatrix.columns = corrsMatrix.columns.map(lambda x: int(x.split('_')[-2]))\n",
    "    corrsMatrix = corrsMatrix.sort_index().sort_index(axis=1)\n",
    "    corrsMatrix.index = corrsMatrix.index.map(lambda x: indexName + '_' + str(x))\n",
    "    corrsMatrix.columns = corrsMatrix.columns.map(lambda x: columnsName + '_' + str(x))\n",
    "    return corrsMatrix.T"
   ]
  },
  {
   "cell_type": "markdown",
   "metadata": {},
   "source": [
    "#### Results saving"
   ]
  },
  {
   "cell_type": "code",
   "execution_count": null,
   "metadata": {
    "collapsed": false
   },
   "outputs": [],
   "source": [
    "corrsMatrix_long_short = computeStrategiesCorrelations(longStrategies, 'l', shortStrategies, 's')\n",
    "corrsMatrix_long_short.to_csv('../results/dae/portfolios/resultsAnalysis/strategiesCorrelations_long_short.csv',\n",
    "                              sep=';')"
   ]
  },
  {
   "cell_type": "markdown",
   "metadata": {},
   "source": [
    "## All strategies level\n",
    "\n",
    "Represent all metrics on a single graph to get an overview of strategies performances"
   ]
  },
  {
   "cell_type": "markdown",
   "metadata": {},
   "source": [
    "###  Computation"
   ]
  },
  {
   "cell_type": "code",
   "execution_count": null,
   "metadata": {
    "collapsed": false
   },
   "outputs": [],
   "source": [
    "strategiesMeanStdRiskContrib = strategiesMeanStd.loc[(strategiesMeanStd['isLong'] == 'True') &\n",
    "                                                     (strategiesMeanStd['isShort'] == 'True') &\n",
    "                                                     (strategiesMeanStd['weight_type'] == 'riskContribution') &\n",
    "                                                     (strategiesMeanStd['involvedProportion'] != 0)]"
   ]
  },
  {
   "cell_type": "code",
   "execution_count": null,
   "metadata": {
    "collapsed": false
   },
   "outputs": [],
   "source": [
    "for config in strategiesMeanStdRiskContrib.index.values:\n",
    "    strategy = Strategy(name=config)\n",
    "    if np.isnan(strategy.returnMean): print config\n",
    "    strategiesMeanStdRiskContrib.ix[strategy.name, 'returnMean'] = strategy.returnMean\n",
    "    strategiesMeanStdRiskContrib.ix[strategy.name, 'returnStd'] = strategy.returnStd\n",
    "    strategiesMeanStdRiskContrib.ix[strategy.name, 'returnSharpe'] = strategy.returnSharpe"
   ]
  },
  {
   "cell_type": "code",
   "execution_count": null,
   "metadata": {
    "collapsed": false
   },
   "outputs": [],
   "source": [
    "sortedReturnMean = uti.rawSort(results=strategiesMeanStdRiskContrib, metricToSortBy='returnMean')"
   ]
  },
  {
   "cell_type": "code",
   "execution_count": null,
   "metadata": {
    "collapsed": false
   },
   "outputs": [],
   "source": [
    "dataa = sortedReturnMeand\n",
    "ataa = dataa.reset_index()"
   ]
  },
  {
   "cell_type": "markdown",
   "metadata": {},
   "source": [
    "### Plot"
   ]
  },
  {
   "cell_type": "code",
   "execution_count": null,
   "metadata": {
    "collapsed": false
   },
   "outputs": [],
   "source": [
    "reset_output()\n",
    "p = figure(tools=\"pan,wheel_zoom,box_zoom,reset,resize,hover,save\",\n",
    "           x_range=(0, dataa.shape[0] - 1),\n",
    "           y_range=(dataa['returnMean'].min(), dataa['returnMean'].max()))\n",
    "p.yaxis.major_label_text_color = \"darkred\"\n",
    "p.xgrid.grid_line_color = None\n",
    "p.ygrid.grid_line_color = None\n",
    "x = dataa['index']\n",
    "\n",
    "z0 = np.polyfit(x, dataa['returnMean'], 10)\n",
    "pol0 = np.poly1d(z0)\n",
    "vals0 = [pol0(i) for i in x]\n",
    "\n",
    "z1 = np.polyfit(x, dataa['returnStd'], 10)\n",
    "pol1 = np.poly1d(z1)\n",
    "vals1 = [pol1(i) for i in x]\n",
    "\n",
    "z2 = np.polyfit(x, dataa['returnSharpe'], 10)\n",
    "pol2 = np.poly1d(z2)\n",
    "vals2 = [pol2(i) for i in x]\n",
    "\n",
    "source = ColumnDataSource(\n",
    "        data=dict(\n",
    "        x = x,\n",
    "        mean = dataa['returnMean'],\n",
    "        meanpol = vals0,\n",
    "        std = dataa['returnStd'],\n",
    "        stdpol = vals1,\n",
    "        sharpe = dataa['returnSharpe'],\n",
    "        sharpepol = vals2,\n",
    "        conf = dataa['concatParams']\n",
    "        )\n",
    "    )\n",
    "# p.line('x','mean', legend='mean (€/day)', color='red', source=source, line_width=1.5)\n",
    "p.line('x','meanpol', legend='mean', color='darkred', source=source, line_width=1.5)\n",
    "hline = Span(location=0, dimension='width', line_color='darkred', line_width=0.5)\n",
    "p.renderers.extend([hline])\n",
    "\n",
    "meanMin = dataa['returnMean'].min()\n",
    "meanMax = dataa['returnMean'].max()\n",
    "\n",
    "stdMin = dataa['returnStd'].min()\n",
    "stdMax = dataa['returnStd'].max()\n",
    "\n",
    "sharpeMin = dataa['returnSharpe'].min()\n",
    "sharpeMax = dataa['returnSharpe'].max()\n",
    "\n",
    "p.extra_y_ranges[\"stdy\"] = Range1d(start=stdMin, end=stdMax)\n",
    "p.extra_y_ranges[\"sharpey\"] = Range1d(start=sharpeMin, end=sharpeMax)\n",
    "\n",
    "p.add_layout(LinearAxis(y_range_name='stdy', axis_label_text_color='green', major_label_text_color='green'), 'left')\n",
    "p.add_layout(LinearAxis(y_range_name='sharpey', axis_label_text_color='orange', major_label_text_color='orange'), 'right')\n",
    "\n",
    "p.line('x', 'std', y_range_name='stdy', color='green', line_alpha=0.25, source=source)\n",
    "p.line('x', 'sharpe', y_range_name='sharpey', color='orange', line_alpha=0.25, source=source)\n",
    "p.line('x', 'stdpol', legend='std', y_range_name='stdy', line_color='green', source=source)\n",
    "p.line('x', 'sharpepol', legend='sharpe', y_range_name='sharpey', line_color='orange', source=source)\n",
    "p.select_one(HoverTool).tooltips = [('conf','@conf')]\n",
    "p.xaxis.axis_label = 'Strategies'\n",
    "p.xaxis.axis_label_text_font_size = \"12pt\"\n",
    "\n",
    "p.legend.orientation = \"top_left\"\n",
    "output_notebook()\n",
    "show(p)\n",
    "\n",
    "output_file('../results/dae/portfolios/resultsAnalysis/combinedMetrics.html')\n",
    "save(p)"
   ]
  }
 ],
 "metadata": {
  "kernelspec": {
   "display_name": "Python [Root]",
   "language": "python",
   "name": "Python [Root]"
  },
  "language_info": {
   "codemirror_mode": {
    "name": "ipython",
    "version": 2
   },
   "file_extension": ".py",
   "mimetype": "text/x-python",
   "name": "python",
   "nbconvert_exporter": "python",
   "pygments_lexer": "ipython2",
   "version": "2.7.12"
  }
 },
 "nbformat": 4,
 "nbformat_minor": 0
}
